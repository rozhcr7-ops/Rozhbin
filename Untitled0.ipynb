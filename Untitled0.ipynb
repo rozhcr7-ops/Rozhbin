{
  "nbformat": 4,
  "nbformat_minor": 0,
  "metadata": {
    "colab": {
      "provenance": [],
      "authorship_tag": "ABX9TyM1ZgjzOA/dLhgUm9yLxqQ4",
      "include_colab_link": true
    },
    "kernelspec": {
      "name": "python3",
      "display_name": "Python 3"
    },
    "language_info": {
      "name": "python"
    }
  },
  "cells": [
    {
      "cell_type": "markdown",
      "metadata": {
        "id": "view-in-github",
        "colab_type": "text"
      },
      "source": [
        "<a href=\"https://colab.research.google.com/github/rozhcr7-ops/Rozhbin/blob/main/Untitled0.ipynb\" target=\"_parent\"><img src=\"https://colab.research.google.com/assets/colab-badge.svg\" alt=\"Open In Colab\"/></a>"
      ]
    },
    {
      "cell_type": "code",
      "execution_count": 1,
      "metadata": {
        "colab": {
          "base_uri": "https://localhost:8080/"
        },
        "id": "gVXIzx6JyiCC",
        "outputId": "d420eb0d-28ed-410a-c05b-94c821253e7a"
      },
      "outputs": [
        {
          "output_type": "stream",
          "name": "stdout",
          "text": [
            "Iter\t a\t\t b\t\t c\t\t f(c)\n",
            "--------------------------------------------------\n",
            "1\t 2.000000\t 3.000000\t 2.500000\t -3.375000\n",
            "2\t 2.500000\t 3.000000\t 2.750000\t 0.796875\n",
            "3\t 2.500000\t 2.750000\t 2.625000\t -1.412109\n",
            "4\t 2.625000\t 2.750000\t 2.687500\t -0.339111\n",
            "5\t 2.687500\t 2.750000\t 2.718750\t 0.220917\n",
            "6\t 2.687500\t 2.718750\t 2.703125\t -0.061077\n",
            "7\t 2.703125\t 2.718750\t 2.710938\t 0.079423\n",
            "8\t 2.703125\t 2.710938\t 2.707031\t 0.009049\n",
            "9\t 2.703125\t 2.707031\t 2.705078\t -0.026045\n",
            "10\t 2.705078\t 2.707031\t 2.706055\t -0.008506\n",
            "11\t 2.706055\t 2.707031\t 2.706543\t 0.000270\n",
            "12\t 2.706055\t 2.706543\t 2.706299\t -0.004118\n",
            "13\t 2.706299\t 2.706543\t 2.706421\t -0.001924\n",
            "14\t 2.706421\t 2.706543\t 2.706482\t -0.000827\n",
            "\n",
            "Root found at x = 2.706482\n",
            "\n",
            "Approximate root: 2.70648193359375\n"
          ]
        }
      ],
      "source": [
        "\n",
        "\n",
        "# Bisection Method in Python\n",
        "\n",
        "# Equation: f(x) = x^3 - 4x - 9\n",
        "\n",
        "\n",
        "def f(x):\n",
        "\n",
        "    return x**3 - 4*x - 9  # Define the function\n",
        "\n",
        "\n",
        "def bisection(a, b, tolerance=0.0001, max_iterations=20):\n",
        "\n",
        "    if f(a) * f(b) >= 0:\n",
        "\n",
        "        print(\"Invalid interval: f(a) and f(b) must have opposite signs.\")\n",
        "\n",
        "        return None\n",
        "\n",
        "\n",
        "    print(\"Iter\\t a\\t\\t b\\t\\t c\\t\\t f(c)\")\n",
        "\n",
        "    print(\"-\" * 50)\n",
        "\n",
        "\n",
        "    for i in range(max_iterations):\n",
        "\n",
        "        c = (a + b) / 2  # Midpoint\n",
        "\n",
        "        f_c = f(c)\n",
        "\n",
        "\n",
        "        print(f\"{i+1}\\t {a:.6f}\\t {b:.6f}\\t {c:.6f}\\t {f_c:.6f}\")\n",
        "\n",
        "\n",
        "        if abs(f_c) < tolerance or (b - a) / 2 < tolerance:\n",
        "\n",
        "            print(f\"\\nRoot found at x = {c:.6f}\")\n",
        "\n",
        "            return c\n",
        "\n",
        "\n",
        "        # Decide the subinterval\n",
        "\n",
        "        if f(a) * f_c < 0:\n",
        "\n",
        "            b = c\n",
        "\n",
        "        else:\n",
        "\n",
        "            a = c\n",
        "\n",
        "\n",
        "    print(\"\\nReached maximum iterations without desired tolerance.\")\n",
        "\n",
        "    return c\n",
        "\n",
        "\n",
        "\n",
        "# Example usage\n",
        "\n",
        "root = bisection(2, 3)\n",
        "\n",
        "print(f\"\\nApproximate root: {root}\")"
      ]
    }
  ]
}